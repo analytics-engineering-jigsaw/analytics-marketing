{
 "cells": [
  {
   "cell_type": "markdown",
   "id": "21ea6d50-66e4-4c85-bb73-b1d1b45fd18a",
   "metadata": {},
   "source": [
    "# Mixpanel Talk"
   ]
  },
  {
   "cell_type": "markdown",
   "id": "97754047-b49b-44f9-8371-065fe3079177",
   "metadata": {},
   "source": [
    "<img src=\"./top-down.png\" width=\"60%\">"
   ]
  },
  {
   "cell_type": "markdown",
   "id": "371db16e-3e6a-4bdc-beab-697a64a88554",
   "metadata": {},
   "source": [
    "<img src=\"./easy.png\" width=\"60%\">"
   ]
  },
  {
   "cell_type": "markdown",
   "id": "81fd45b6-fc23-4bc5-876f-bd9d01688ba3",
   "metadata": {},
   "source": [
    "<img src=\"./poor-retention.png\" width=\"50%\">"
   ]
  },
  {
   "cell_type": "code",
   "execution_count": null,
   "id": "5afdd4d1-5efc-4be6-baf3-f5a20b245e3e",
   "metadata": {},
   "outputs": [],
   "source": []
  }
 ],
 "metadata": {
  "kernelspec": {
   "display_name": "Python 3 (ipykernel)",
   "language": "python",
   "name": "python3"
  },
  "language_info": {
   "codemirror_mode": {
    "name": "ipython",
    "version": 3
   },
   "file_extension": ".py",
   "mimetype": "text/x-python",
   "name": "python",
   "nbconvert_exporter": "python",
   "pygments_lexer": "ipython3",
   "version": "3.9.10"
  }
 },
 "nbformat": 4,
 "nbformat_minor": 5
}
