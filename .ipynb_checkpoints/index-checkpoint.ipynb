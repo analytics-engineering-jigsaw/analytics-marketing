{
 "cells": [
  {
   "cell_type": "markdown",
   "id": "21ea6d50-66e4-4c85-bb73-b1d1b45fd18a",
   "metadata": {},
   "source": [
    "# Mixpanel Talk"
   ]
  },
  {
   "cell_type": "markdown",
   "id": "ed92f9a4-8828-478b-9b31-21a7f00ae725",
   "metadata": {},
   "source": [
    "[How to Measure your product](https://www.youtube.com/watch?v=MABmQhOlmJA)"
   ]
  },
  {
   "cell_type": "markdown",
   "id": "97754047-b49b-44f9-8371-065fe3079177",
   "metadata": {},
   "source": [
    "<img src=\"./top-down.png\" width=\"60%\">"
   ]
  },
  {
   "cell_type": "markdown",
   "id": "371db16e-3e6a-4bdc-beab-697a64a88554",
   "metadata": {},
   "source": [
    "<img src=\"./easy.png\" width=\"60%\">"
   ]
  },
  {
   "cell_type": "markdown",
   "id": "81fd45b6-fc23-4bc5-876f-bd9d01688ba3",
   "metadata": {},
   "source": [
    "<img src=\"./poor-retention.png\" width=\"50%\">"
   ]
  },
  {
   "cell_type": "markdown",
   "id": "5c29ac64-c8ad-4cd5-a4db-80815e805f1e",
   "metadata": {
    "tags": []
   },
   "source": [
    "### Additional Resources\n",
    "\n",
    "* [16 metrics](https://a16z.com/2015/08/21/16-metrics/)\n",
    "* [After Techcrunch](https://redeye.firstround.com/2008/01/after-the-techc.html)\n",
    "* [Negative Churn](https://tomtunguz.com/negative-churn)\n",
    "* [AB Test](https://www.startuplessonslearned.com/2008/09/one-line-split-test-or-how-to-ab-all.html)\n",
    "* [Segment AB Test](https://segment.com/blog/ab-testing/)\n",
    "* [Data School Dashboard Design](https://dataschool.com/how-to-design-a-dashboard/build-the-metrics/)\n",
    "* [Next Feature Fallacy](https://andrewchen.com/the-next-feature-fallacy-the-fallacy-that-the-next-new-feature-will-suddenly-make-people-use-your-product/)\n",
    "[Startup Founders Guide to Analytics](https://thinkgrowth.org/the-startup-founders-guide-to-analytics-1d2176f20ac1)"
   ]
  },
  {
   "cell_type": "code",
   "execution_count": null,
   "id": "a1eefae1-d2bb-4cb4-afe1-2867d1954016",
   "metadata": {},
   "outputs": [],
   "source": []
  }
 ],
 "metadata": {
  "kernelspec": {
   "display_name": "Python 3 (ipykernel)",
   "language": "python",
   "name": "python3"
  },
  "language_info": {
   "codemirror_mode": {
    "name": "ipython",
    "version": 3
   },
   "file_extension": ".py",
   "mimetype": "text/x-python",
   "name": "python",
   "nbconvert_exporter": "python",
   "pygments_lexer": "ipython3",
   "version": "3.9.10"
  }
 },
 "nbformat": 4,
 "nbformat_minor": 5
}
