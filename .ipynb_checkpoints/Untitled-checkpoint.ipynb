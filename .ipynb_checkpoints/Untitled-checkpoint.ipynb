{
 "cells": [
  {
   "cell_type": "markdown",
   "id": "21ea6d50-66e4-4c85-bb73-b1d1b45fd18a",
   "metadata": {},
   "source": [
    "# Mixpanel Talk"
   ]
  },
  {
   "cell_type": "markdown",
   "id": "97754047-b49b-44f9-8371-065fe3079177",
   "metadata": {},
   "source": [
    "<img src=\"./top-down.png\" width=\"60%\">"
   ]
  },
  {
   "cell_type": "code",
   "execution_count": null,
   "id": "967b13c4-6177-4887-9c3e-99880881b212",
   "metadata": {},
   "outputs": [],
   "source": []
  }
 ],
 "metadata": {
  "kernelspec": {
   "display_name": "Python 3 (ipykernel)",
   "language": "python",
   "name": "python3"
  },
  "language_info": {
   "codemirror_mode": {
    "name": "ipython",
    "version": 3
   },
   "file_extension": ".py",
   "mimetype": "text/x-python",
   "name": "python",
   "nbconvert_exporter": "python",
   "pygments_lexer": "ipython3",
   "version": "3.9.10"
  }
 },
 "nbformat": 4,
 "nbformat_minor": 5
}
